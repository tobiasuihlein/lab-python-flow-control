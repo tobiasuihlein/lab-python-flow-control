{
 "cells": [
  {
   "cell_type": "markdown",
   "id": "d3bfc191-8885-42ee-b0a0-bbab867c6f9f",
   "metadata": {
    "tags": []
   },
   "source": [
    "# Lab | Flow Control"
   ]
  },
  {
   "cell_type": "markdown",
   "id": "3851fcd1-cf98-4653-9c89-e003b7ec9400",
   "metadata": {},
   "source": [
    "## Exercise: Managing Customer Orders Optimized\n",
    "\n",
    "In the last lab, you were starting an online store that sells various products. To ensure smooth operations, you developed a program that manages customer orders and inventory.\n",
    "\n",
    "You did so without using flow control. Let's go a step further and improve this code.\n",
    "\n",
    "Follow the steps below to complete the exercise:\n",
    "\n",
    "1. Look at your code from the lab data structures, and improve repeated code with loops.\n",
    "\n",
    "2. Instead of asking the user to input the name of three products that a customer wants to order, do the following:\n",
    "    \n",
    "    a. Prompt the user to enter the name of a product that a customer wants to order.\n",
    "    \n",
    "    b. Add the product name to the \"customer_orders\" set.\n",
    "    \n",
    "    c. Ask the user if they want to add another product (yes/no).\n",
    "    \n",
    "    d. Continue the loop until the user does not want to add another product.\n",
    "\n",
    "3. Instead of updating the inventory by subtracting 1 from the quantity of each product, only do it for  the products that were ordered (those in \"customer_orders\")."
   ]
  },
  {
   "cell_type": "code",
   "execution_count": 1,
   "id": "df397345",
   "metadata": {},
   "outputs": [
    {
     "name": "stdout",
     "output_type": "stream",
     "text": [
      "{'t-shirt': 5, 'mug': 4, 'hat': 3, 'book': 2, 'keychain': 1}\n"
     ]
    }
   ],
   "source": [
    "# define product list\n",
    "products = [\"t-shirt\", \"mug\", \"hat\", \"book\", \"keychain\"]\n",
    "# create inventory dictionary with user input\n",
    "inventory = {}\n",
    "for k in products:\n",
    "    #ask user to enter quantity for each product and store in invetory dictionary\n",
    "    inventory[k] = int(input(\"Enter quantity of \" + k))\n",
    "print(inventory)"
   ]
  },
  {
   "cell_type": "code",
   "execution_count": 3,
   "id": "ee412f0e",
   "metadata": {},
   "outputs": [
    {
     "name": "stdout",
     "output_type": "stream",
     "text": [
      "{'hat', 'mug'}\n"
     ]
    }
   ],
   "source": [
    "# create set to store customer orders\n",
    "customer_orders = set()\n",
    "\n",
    "# ask for user input to order items\n",
    "continue_order = 'yes'\n",
    "while continue_order == 'yes':\n",
    "    customer_orders.add(input(\"Enter product name you want to order: \"))\n",
    "    continue_order = input(\"Do you want to add another product? (yes/no)\")\n",
    "\n",
    "#print customer orders\n",
    "print(customer_orders)"
   ]
  },
  {
   "cell_type": "code",
   "execution_count": 5,
   "id": "828419c6",
   "metadata": {},
   "outputs": [
    {
     "name": "stdout",
     "output_type": "stream",
     "text": [
      "Order Statistics:\n",
      "Total Products Ordered: 2\n",
      "Percentage of Products Ordered: 13%\n"
     ]
    }
   ],
   "source": [
    "# create variables to store order statistics\n",
    "total_products_ordered = len(customer_orders)\n",
    "total_products_available = 0\n",
    "percentage_of_products_ordered = 0\n",
    "# calculate order statistics from inventory and customer data\n",
    "for k in products:\n",
    "    total_products_available += inventory[k]\n",
    "percentage_of_products_ordered = round(total_products_ordered / total_products_available * 100)\n",
    "#store order statistics in tuple\n",
    "order_status = (total_products_ordered, percentage_of_products_ordered)\n",
    "\n",
    "#print order statistics\n",
    "print(\"Order Statistics:\")\n",
    "print(\"Total Products Ordered: \" + str(order_status[0]))\n",
    "print(\"Percentage of Products Ordered: \" + str(order_status[1]) + \"%\")"
   ]
  },
  {
   "cell_type": "code",
   "execution_count": 6,
   "id": "ec763e61",
   "metadata": {},
   "outputs": [
    {
     "name": "stdout",
     "output_type": "stream",
     "text": [
      "Inventory has been updated:\n",
      "t-shirt: 5\n",
      "mug: 3\n",
      "hat: 2\n",
      "book: 2\n",
      "keychain: 1\n"
     ]
    }
   ],
   "source": [
    "# subtract 1 from the quantity of every ordered item in the inventory\n",
    "print(\"Inventory has been updated:\")\n",
    "for k in products:\n",
    "    if k in customer_orders:\n",
    "        inventory[k] = inventory[k] - 1\n",
    "    print(k + \": \" + str(inventory[k]))"
   ]
  },
  {
   "cell_type": "code",
   "execution_count": null,
   "id": "9a04bfb1",
   "metadata": {},
   "outputs": [],
   "source": []
  }
 ],
 "metadata": {
  "kernelspec": {
   "display_name": "Python 3 (ipykernel)",
   "language": "python",
   "name": "python3"
  },
  "language_info": {
   "codemirror_mode": {
    "name": "ipython",
    "version": 3
   },
   "file_extension": ".py",
   "mimetype": "text/x-python",
   "name": "python",
   "nbconvert_exporter": "python",
   "pygments_lexer": "ipython3",
   "version": "3.11.7"
  }
 },
 "nbformat": 4,
 "nbformat_minor": 5
}
